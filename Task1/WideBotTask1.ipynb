{
  "nbformat": 4,
  "nbformat_minor": 0,
  "metadata": {
    "colab": {
      "name": "Untitled",
      "provenance": []
    },
    "kernelspec": {
      "name": "python3",
      "display_name": "Python 3"
    }
  },
  "cells": [
    {
      "cell_type": "markdown",
      "metadata": {
        "id": "w8OILrFeV6Os",
        "colab_type": "text"
      },
      "source": [
        "# ***Imports and Constants***"
      ]
    },
    {
      "cell_type": "code",
      "metadata": {
        "id": "tDWbaBMHQGa6",
        "colab_type": "code",
        "colab": {}
      },
      "source": [
        "from bs4 import BeautifulSoup\n",
        "import time\n",
        "import requests"
      ],
      "execution_count": null,
      "outputs": []
    },
    {
      "cell_type": "code",
      "metadata": {
        "id": "l9KQ9kcZaJ9M",
        "colab_type": "code",
        "colab": {}
      },
      "source": [
        "RANDOM_PATH = \"https://en.wikipedia.org/wiki/Special:Random\"\n",
        "TARGET_PATH = 'https://en.wikipedia.org//wiki/Philosophy'\n",
        "MAX_ITR = 50\n",
        "URLS_VISITED = [RANDOM_PATH]\n"
      ],
      "execution_count": null,
      "outputs": []
    },
    {
      "cell_type": "markdown",
      "metadata": {
        "id": "9hftSHusaTQv",
        "colab_type": "text"
      },
      "source": [
        "## ***Search for Links***"
      ]
    },
    {
      "cell_type": "markdown",
      "metadata": {
        "id": "Z3PymJrQaRlf",
        "colab_type": "text"
      },
      "source": [
        "As shown in Geting philosphy We need to get link in *[Clicking on the first link in the main text of a Wikipedia article ] *\n",
        "\n",
        "Main Text ---> found in the div class=\"mw-content-text\" .\n",
        "\n",
        "search link in this Main Text -->Frist Link in div\n",
        "\n",
        "ID=\"mw-content-text\" Contain :\n",
        "\n",
        "div class= mw-parser-output --->GET frist Link\n",
        "\n",
        "noScript\n",
        "\n",
        "div = printfooter"
      ]
    },
    {
      "cell_type": "code",
      "metadata": {
        "id": "W4bg54DZaPX3",
        "colab_type": "code",
        "colab": {}
      },
      "source": [
        "def Fetch_Link(All_para):\n",
        "  for i in All_para:\n",
        "    if i.find(\"a\"):\n",
        "            Link_Found = i.find(\"a\")\n",
        "            Url  =Link_Found.get('href')\n",
        "            break\n",
        "    \n",
        "  if Url is None : \n",
        "    return\n",
        "  else :\n",
        "    return  Url"
      ],
      "execution_count": null,
      "outputs": []
    },
    {
      "cell_type": "code",
      "metadata": {
        "id": "DBnSf_aVcSs1",
        "colab_type": "code",
        "colab": {}
      },
      "source": [
        "def Search(link):\n",
        "  #Conditions to Stop :\n",
        "  #1- reach to 50 itiration \n",
        "  #2- Link not found --->WE Can Check it here\n",
        "  #3 - Reach to philosphy\n",
        "  #4- if one Link  repeated --> will Enter in finite loop\n",
        "\n",
        "  Main_Text = requests.get(link).text  # Get ALl Content \n",
        "\n",
        "  soup = BeautifulSoup(Main_Text,\"html.parser\") \n",
        "  # Content  Div \n",
        "  content_text_Div = soup.find(id=\"mw-content-text\")  \n",
        "  # Get Frist Class\n",
        "  parser_output_Div = content_text_Div.find(class_ = 'mw-parser-output')  \n",
        "  # list of Paraph in class mw-parser-output\n",
        "  List_Of_Paragraph = parser_output_Div.find_all(\"p\")  \n",
        "\n",
        "  Url = Fetch_Link(List_Of_Paragraph)\n",
        "\n",
        "  if (Url is None):\n",
        "    return\n",
        " \n",
        "  Complete_Link = 'https://en.wikipedia.org/'+ Url\n",
        "  \n",
        "  return Complete_Link"
      ],
      "execution_count": null,
      "outputs": []
    },
    {
      "cell_type": "code",
      "metadata": {
        "id": "EwnHCgpIebqV",
        "colab_type": "code",
        "colab": {
          "base_uri": "https://localhost:8080/",
          "height": 35
        },
        "outputId": "23f21ca8-c16e-4b50-da0c-78f99371a6d2"
      },
      "source": [
        "'''\n",
        "a=Search('https://en.wikipedia.org//wiki/Greek_language')\n",
        "a\n",
        "'''"
      ],
      "execution_count": null,
      "outputs": [
        {
          "output_type": "execute_result",
          "data": {
            "application/vnd.google.colaboratory.intrinsic+json": {
              "type": "string"
            },
            "text/plain": [
              "\"\\na=Search('https://en.wikipedia.org//wiki/Greek_language')\\na\\n\""
            ]
          },
          "metadata": {
            "tags": []
          },
          "execution_count": 21
        }
      ]
    },
    {
      "cell_type": "markdown",
      "metadata": {
        "id": "wBuNNzCKc8Hd",
        "colab_type": "text"
      },
      "source": [
        "# ***Consitions***"
      ]
    },
    {
      "cell_type": "code",
      "metadata": {
        "id": "ViTZYfyOdAMT",
        "colab_type": "code",
        "colab": {}
      },
      "source": [
        "#condition to continue :\n",
        "#len of itirstions or length Visited URL < MaxITR\n",
        "#Final link not in Visited URL\n",
        "#Target Link (Philosphi) != any Link in Visited URL\n",
        "\n",
        "\n",
        "def Conditions(URLS_VISITED):\n",
        "  cond1 = len(URLS_VISITED) > MAX_ITR\n",
        "  cond2 = URLS_VISITED[len(URLS_VISITED)-1]  in URLS_VISITED[:(len(URLS_VISITED)-1)]\n",
        "  cond3 = (TARGET_PATH == URLS_VISITED[len(URLS_VISITED)-1])\n",
        "  print(cond1)\n",
        "  print(cond2)\n",
        "  print(cond3)\n",
        "\n",
        "\n",
        "\n",
        "\n",
        "  if (cond1):\n",
        "  \n",
        "    print(\"not satisfied conditions\")\n",
        "    print(\"crossed limits of iterations \")\n",
        "    return False\n",
        "  elif (cond2):\n",
        "    print(\"not satisfied conditions\")\n",
        "    print(\"Final link  in Visited URL\")\n",
        "    return False \n",
        "\n",
        "  elif (cond3):\n",
        "    print(\" satisfied conditions\")\n",
        "    print(\"Target Link (Philosphi) you reach ,Congratulations!! \")\n",
        "    print(\"Done \")\n",
        "\n",
        "    return False \n",
        "\n",
        "  else :\n",
        "    return True\n",
        "\n"
      ],
      "execution_count": null,
      "outputs": []
    },
    {
      "cell_type": "code",
      "metadata": {
        "id": "rp1IrMt0dPyB",
        "colab_type": "code",
        "colab": {
          "base_uri": "https://localhost:8080/",
          "height": 617
        },
        "outputId": "1581447f-0273-4a9f-b48f-4239dee96440"
      },
      "source": [
        "\n",
        "while Conditions(URLS_VISITED):\n",
        "    link = Search(URLS_VISITED[len(URLS_VISITED)-1])\n",
        "    if not link:\n",
        "        print(\"No Links in This Page.\")\n",
        "        break\n",
        "    URLS_VISITED.append(link)\n",
        "\n"
      ],
      "execution_count": null,
      "outputs": [
        {
          "output_type": "stream",
          "text": [
            "False\n",
            "False\n",
            "False\n",
            "False\n",
            "False\n",
            "False\n",
            "False\n",
            "False\n",
            "False\n",
            "False\n",
            "False\n",
            "False\n",
            "False\n",
            "False\n",
            "False\n",
            "False\n",
            "False\n",
            "False\n",
            "False\n",
            "False\n",
            "False\n",
            "False\n",
            "False\n",
            "False\n",
            "False\n",
            "False\n",
            "False\n",
            "False\n",
            "False\n",
            "True\n",
            " satisfied conditions\n",
            "Target Link (Philosphi) you reach ,Congratulations!! \n",
            "Done \n"
          ],
          "name": "stdout"
        }
      ]
    },
    {
      "cell_type": "code",
      "metadata": {
        "id": "rIno3gLrdVbQ",
        "colab_type": "code",
        "colab": {
          "base_uri": "https://localhost:8080/",
          "height": 199
        },
        "outputId": "235d6fb8-d2a4-470c-f0cb-d5c91567fc29"
      },
      "source": [
        "URLS_VISITED"
      ],
      "execution_count": null,
      "outputs": [
        {
          "output_type": "execute_result",
          "data": {
            "text/plain": [
              "['https://en.wikipedia.org/wiki/Special:Random',\n",
              " 'https://en.wikipedia.org//wiki/First-class_cricket',\n",
              " 'https://en.wikipedia.org//wiki/Cricket',\n",
              " 'https://en.wikipedia.org//wiki/Bat-and-ball_games',\n",
              " 'https://en.wikipedia.org//wiki/Playing_field',\n",
              " 'https://en.wikipedia.org//wiki/Sport',\n",
              " 'https://en.wikipedia.org//wiki/Competition',\n",
              " 'https://en.wikipedia.org//wiki/Goal',\n",
              " 'https://en.wikipedia.org//wiki/Idea',\n",
              " 'https://en.wikipedia.org//wiki/Philosophy']"
            ]
          },
          "metadata": {
            "tags": []
          },
          "execution_count": 24
        }
      ]
    },
    {
      "cell_type": "markdown",
      "metadata": {
        "id": "o8X935_Bgs_g",
        "colab_type": "text"
      },
      "source": [
        "  Get No link \n",
        "  \n",
        "  'https://en.wikipedia.org//wiki/Greek_language'\n",
        "\n",
        "  'https://en.wikipedia.org//wiki/Country\n",
        "\n",
        "  Repeated link\n",
        "\n",
        "   'https://en.wikipedia.org//wiki/International_Phonetic_Alphabet'\n",
        "\n",
        "  'https://en.wikipedia.org//wiki/Science'\n",
        "\n",
        "  Need to repeate Runs to Reach to Philosophy"
      ]
    }
  ]
}