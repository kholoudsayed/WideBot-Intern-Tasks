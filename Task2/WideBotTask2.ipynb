{
  "nbformat": 4,
  "nbformat_minor": 0,
  "metadata": {
    "colab": {
      "name": "WideBotTask2 .ipynb",
      "provenance": [],
      "collapsed_sections": [],
      "toc_visible": true
    },
    "kernelspec": {
      "name": "python3",
      "display_name": "Python 3"
    },
    "accelerator": "GPU"
  },
  "cells": [
    {
      "cell_type": "markdown",
      "metadata": {
        "id": "arLkaAwcv640",
        "colab_type": "text"
      },
      "source": [
        "# ***Imports And Constants***"
      ]
    },
    {
      "cell_type": "code",
      "metadata": {
        "id": "2BfsWzXhYX6j",
        "colab_type": "code",
        "colab": {}
      },
      "source": [
        "import pandas as pd\n",
        "import numpy as np\n",
        "from sklearn.preprocessing import LabelEncoder ,OneHotEncoder\n",
        "import matplotlib.pyplot as plt\n",
        "import seaborn as sns\n",
        "%matplotlib inline     \n",
        "from statistics import *\n",
        "from sklearn import preprocessing\n",
        "from sklearn.preprocessing import MinMaxScaler\n",
        "from sklearn.neighbors import KNeighborsClassifier\n",
        "sns.set(color_codes=True)\n",
        "from keras.models import Sequential\n",
        "from keras.layers import Dense\n",
        "from keras.wrappers.scikit_learn import KerasClassifier\n",
        "from sklearn.model_selection import cross_val_score\n",
        "from sklearn.model_selection import StratifiedKFold\n",
        "from sklearn.linear_model import LogisticRegression\n",
        "from sklearn import metrics\n",
        "from sklearn.metrics import classification_report, confusion_matrix\n",
        "from sklearn.tree import DecisionTreeClassifier \n",
        "from sklearn.preprocessing import StandardScaler \n",
        "from sklearn import svm\n",
        "from  sklearn.decomposition import PCA\n",
        "from sklearn.naive_bayes import GaussianNB\n",
        "from sklearn.metrics import accuracy_score\n",
        "import threading\n",
        "from threading import Thread\n",
        "\n"
      ],
      "execution_count": null,
      "outputs": []
    },
    {
      "cell_type": "code",
      "metadata": {
        "id": "j_fngu04Ynly",
        "colab_type": "code",
        "colab": {}
      },
      "source": [
        "# CONSTANTS\n",
        "DataPath_Train= 'training.csv'\n",
        "DataPath_Validation= 'validation.csv'"
      ],
      "execution_count": null,
      "outputs": []
    },
    {
      "cell_type": "markdown",
      "metadata": {
        "id": "kRJbdEsvvrmt",
        "colab_type": "text"
      },
      "source": [
        "# **Load Data**\n"
      ]
    },
    {
      "cell_type": "code",
      "metadata": {
        "id": "KnYkccNEb_jP",
        "colab_type": "code",
        "colab": {}
      },
      "source": [
        "class Load :\n",
        "\n",
        "  def __init__(self, DataPath_Train, DataPath_Validation):\n",
        "    self.DataPath_Train = DataPath_Train\n",
        "    self.DataPath_Validation = DataPath_Validation\n",
        "    \n",
        "\n",
        "\n",
        "  def Load_Data(self):\n",
        "    #Train \n",
        "    Train = pd.read_csv(self.DataPath_Train, sep=\";\",decimal=',')\n",
        "    Target_Train = self.Feature_Encoder_Target(Train,Train['classLabel'])\n",
        "    del (Train['classLabel'] )\n",
        "    Train['classLabel'] = Target_Train\n",
        "    #Valid \n",
        "    Validation =  pd.read_csv(self.DataPath_Validation, sep=\";\",decimal=',')\n",
        "    Target_Validation = self.Feature_Encoder_Target(Validation,Validation['classLabel'])\n",
        "    del (Validation['classLabel'] )\n",
        "    Validation['classLabel'] = Target_Train\n",
        "\n",
        "\n",
        "\n",
        "    return Train ,Validation \n",
        "\n",
        "    \n",
        "\n",
        "  def Feature_Encoder_Target(self,DataSet,colName):\n",
        "    Target = pd.Series(np.where(colName.values == 'yes.', 1, 0),\n",
        "            DataSet.index)\n",
        "    return Target\n",
        "\n",
        "\n",
        "\n",
        "      "
      ],
      "execution_count": null,
      "outputs": []
    },
    {
      "cell_type": "markdown",
      "metadata": {
        "id": "o9SC7lhBwXDd",
        "colab_type": "text"
      },
      "source": [
        "# ***Analysis Data***"
      ]
    },
    {
      "cell_type": "markdown",
      "metadata": {
        "id": "ybQPaD014m3k",
        "colab_type": "text"
      },
      "source": [
        "**Steps For EDA :**\n",
        "1.   Importing the libraries  (DONE Above )\n",
        "2.   Loading data  (DONE Above)\n",
        "3.   Checking  types of data\n",
        "4.   Dropping  missing or null values\n",
        "5.   Dropping irrelevant columns\n",
        "6.   Dropping the duplicate rows\n",
        "7.   Visualize Data\n",
        "\n",
        "\n",
        "\n"
      ]
    },
    {
      "cell_type": "markdown",
      "metadata": {
        "id": "m7WuLwx_81i2",
        "colab_type": "text"
      },
      "source": [
        "***3-Checking types of data***"
      ]
    },
    {
      "cell_type": "code",
      "metadata": {
        "id": "J3a3d29hwcQI",
        "colab_type": "code",
        "colab": {}
      },
      "source": [
        "class Analysis_Data:\n",
        "\n",
        "  def __init__(self, Train, Valid):\n",
        "\n",
        "    self.Train = Train\n",
        "    self.Valid = Valid\n",
        "\n",
        "  def Show(self):\n",
        "\n",
        "    print(\"\\t\\t\\t\\t\\t\\t Train Head\\t\\t\\t\\t\\t \\n \",self.Train.head(5))\n",
        "    print(\"\\t\\t\\t\\t\\t\\t Train Tail\\t\\t\\t\\t\\t  \\n \",self.Train.tail(5))\n",
        "    print(\"\\t\\t\\t\\t\\t\\t Types \\t\\t\\t\\t\\t  \\n \",self.Train.dtypes)\n",
        "    print(\"\\t\\t\\t\\t\\t\\t Valid Head\\t\\t\\t\\t\\t \\n \",self.Valid.head(5))\n",
        "    print(\"\\t\\t\\t\\t\\t\\t Valid Tail\\t\\t\\t\\t\\t  \\n \",self.Valid.tail(5))\n",
        "  def Check_NAN(self , Dataset): \n",
        "    for col in Dataset.columns :\n",
        "      col ,Dataset[col].isnull().values.any()\n",
        "    return (Dataset.isna().sum()) \n",
        "\n",
        "  def Runall_Analysis(self):\n",
        "    self.Show()\n",
        "    Train_NAN = self.Check_NAN(self.Train)\n",
        "    print(\"\\t\\t\\t\\t\\t\\t Train Nan Checker \\t\\t\\t\\t\\t \\n \",Train_NAN)\n",
        "    Test_NAN = self.Check_NAN(self.Valid)\n",
        "    print(\"\\t\\t\\t\\t\\t\\t Valid Nan Checker \\t\\t\\t\\t\\t \\n \",Test_NAN)\n",
        "\n"
      ],
      "execution_count": null,
      "outputs": []
    },
    {
      "cell_type": "markdown",
      "metadata": {
        "id": "VwSutBHfNY_S",
        "colab_type": "text"
      },
      "source": [
        "***Handle Missing Data :***\n",
        "\n",
        "First Remove Var18 ---- >Has Many Nan\n",
        "\n",
        "Fill Missing Data **Numeric** with Mean.\n",
        "\n",
        "Fill Missing Data **Categorical** With Mode .  "
      ]
    },
    {
      "cell_type": "code",
      "metadata": {
        "id": "oM1kRhPz89n6",
        "colab_type": "code",
        "colab": {}
      },
      "source": [
        "class Missing_Data:\n",
        "  def __init__(self, Train, Valid):\n",
        "    self.Train = Train\n",
        "    self.Valid = Valid\n",
        "\n",
        "  # First Remove Var18 ---- >Has Many Nan\n",
        "  def Remove_More_Nan_Col(self):\n",
        "    Train = self.Train.drop([ 'variable18'], axis=1)\n",
        "    Valid = self.Valid.drop([ 'variable18'], axis=1)\n",
        "    return Train,Valid \n",
        "\n",
        "\n",
        "\n",
        "  def Fill_Numeric_NAN(self , DataSet):\n",
        "    Numeric_Col_List = DataSet.select_dtypes(np.number)\n",
        "    for i in Numeric_Col_List:\n",
        "      DataSet[i] =DataSet[i].fillna(value=DataSet[i].mean())\n",
        "\n",
        "\n",
        "    return DataSet\n",
        "\n",
        "\n",
        "\n",
        "\n",
        "  def Fill_categorical_NAN(self,DataSet):\n",
        "    categorical_Col_List= DataSet.select_dtypes(np.object)\n",
        "\n",
        "    for i in categorical_Col_List:\n",
        "      DataSet[i] =DataSet[i].fillna(value=DataSet[i].mode()[0])\n",
        "\n",
        "\n",
        "    return DataSet\n",
        "\n",
        "\n",
        "  def Runall_MissingData(self):\n",
        "    Train , Valid = self.Remove_More_Nan_Col()\n",
        "    Train = self.Fill_Numeric_NAN(Train)\n",
        "    Valid = self.Fill_Numeric_NAN(Valid)\n",
        "    Train = self.Fill_categorical_NAN(Train)\n",
        "    Valid = self.Fill_categorical_NAN(Valid)\n",
        "    return Train , Valid \n",
        "\n",
        "\n",
        "\n",
        "\n",
        "\n",
        "\n",
        "\n",
        "\n"
      ],
      "execution_count": null,
      "outputs": []
    },
    {
      "cell_type": "markdown",
      "metadata": {
        "id": "9vef4r80wIjj",
        "colab_type": "text"
      },
      "source": [
        "# ***Preprocessing Data***\n",
        "\n",
        "\n"
      ]
    },
    {
      "cell_type": "code",
      "metadata": {
        "id": "N1zvFzvewayZ",
        "colab_type": "code",
        "colab": {}
      },
      "source": [
        "#Convert Categorical Data To Lable encoder"
      ],
      "execution_count": null,
      "outputs": []
    },
    {
      "cell_type": "code",
      "metadata": {
        "id": "JuAy9zgYurT4",
        "colab_type": "code",
        "colab": {}
      },
      "source": [
        "class Preprocessing_Data:\n",
        "\n",
        "  def __init__(self, Train, Valid):\n",
        "    self.Train = Train\n",
        "    self.Valid = Valid\n",
        "\n",
        "  def LableEncoding_For_Cat(self,DataSet):\n",
        "      categorical_Col_List= DataSet.select_dtypes(np.object)\n",
        "      le = LabelEncoder() \n",
        "      for i in categorical_Col_List:\n",
        "        DataSet[i]= le.fit_transform(DataSet[i]) \n",
        "      return DataSet\n",
        "      \n",
        "  def Split_X_Y(self,DataSet):\n",
        "    Y_DataSet = DataSet.classLabel\n",
        "    DataSet = DataSet[DataSet.columns.difference(['classLabel'])]\n",
        "    X_DataSet = DataSet\n",
        "    return X_DataSet,Y_DataSet\n",
        "\n",
        "  def Runall_Preprocessing_Data(self):\n",
        "\n",
        "   Train = self.LableEncoding_For_Cat(self.Train)\n",
        "   Valid = self.LableEncoding_For_Cat(self.Valid)\n",
        "   X_train ,y_train = self.Split_X_Y(Train)\n",
        "   X_test,y_test = self.Split_X_Y(Valid)\n",
        "   return  X_train ,y_train , X_test,y_test\n",
        "\n",
        "\n",
        "\n",
        "\n",
        "\n",
        "\n",
        "\n",
        "      \n"
      ],
      "execution_count": null,
      "outputs": []
    },
    {
      "cell_type": "markdown",
      "metadata": {
        "id": "Xv_IR7lMwqb-",
        "colab_type": "text"
      },
      "source": [
        "# ***Normalize Data***"
      ]
    },
    {
      "cell_type": "markdown",
      "metadata": {
        "id": "ug8ZhBgRM3Yv",
        "colab_type": "text"
      },
      "source": [
        "Use Train CSV -- > As Train Data\n",
        "\n",
        "Use Vaild CSV -- > As Test Data"
      ]
    },
    {
      "cell_type": "markdown",
      "metadata": {
        "id": "K3hyoiYUNfOa",
        "colab_type": "text"
      },
      "source": [
        "**Normalize X Train Data & Valid Data** Using Normalization\n",
        "\n",
        "1- Normalize Data \n",
        "\n",
        "2- MinMaxScaler\n",
        "\n",
        "3- Use PCA -- > to increase Acc For Model"
      ]
    },
    {
      "cell_type": "code",
      "metadata": {
        "id": "jTHeA7mVdmyD",
        "colab_type": "code",
        "colab": {}
      },
      "source": [
        "class Normalize : \n",
        "  def __init__(self, X_train ,y_train , X_test,y_test):\n",
        "    self.X_train = X_train\n",
        "    self.y_train = y_train\n",
        "    self.X_test = X_test\n",
        "    self.y_test=y_test\n",
        "\n",
        "  def Normalization(self,X_DataSet):\n",
        "    standardized_X_DataSet = preprocessing.scale(X_DataSet)\n",
        "    return standardized_X_DataSet\n",
        "    \n",
        "\n",
        "  def PCA_Function(self,X_DataSet):\n",
        " \n",
        "\n",
        "      x = StandardScaler().fit_transform(X_DataSet)\n",
        "      pca = PCA(n_components=9)\n",
        "      principalComponents = pca.fit_transform(x)\n",
        "      principalDf = pd.DataFrame(data = principalComponents\n",
        "              , columns = ['1', '2','3','4','5','6','7','8','9'])\n",
        "      \n",
        "      return principalDf\n",
        "\n",
        "  def MinMaxScaler(self,X_DataSet):\n",
        "\n",
        "    minmaxscaler = MinMaxScaler()\n",
        "    minmaxscaler.fit(X_DataSet)\n",
        "    X_DataSet = minmaxscaler.transform(X_DataSet)\n",
        "\n",
        "    return X_DataSet\n",
        "\n",
        "\n",
        "\n",
        "    \n",
        "\n"
      ],
      "execution_count": null,
      "outputs": []
    },
    {
      "cell_type": "markdown",
      "metadata": {
        "id": "P9aSSz-01Nd8",
        "colab_type": "text"
      },
      "source": [
        "## ***model***"
      ]
    },
    {
      "cell_type": "markdown",
      "metadata": {
        "id": "-qyEXxOJSUco",
        "colab_type": "text"
      },
      "source": [
        "# ***Binary Classification Problem :***\n",
        "\n",
        "We Can Use This model:\n",
        "\n",
        "1. Logistic Regression\n",
        "\n",
        "2. k-Nearest Neighbors\n",
        "\n",
        "3. Decision Trees\n",
        "\n",
        "4. Support Vector Machine\n",
        "\n",
        "5. Naive Bayes"
      ]
    },
    {
      "cell_type": "markdown",
      "metadata": {
        "id": "EW7v8lvWVP3-",
        "colab_type": "text"
      },
      "source": [
        "***1. Logistic Regression***\n"
      ]
    },
    {
      "cell_type": "code",
      "metadata": {
        "id": "kvXQQOtU2KjD",
        "colab_type": "code",
        "colab": {}
      },
      "source": [
        "class Binary_Classification :\n",
        "\n",
        "  def __init__(self, X_train ,y_train , X_test,y_test):\n",
        "\n",
        "    self.X_train = X_train\n",
        "    self.y_train = y_train\n",
        "    self.X_test = X_test\n",
        "    self.y_test=y_test\n",
        "\n",
        "  \n",
        "\n",
        "  def  Logistic_Regression(self):\n",
        "    #Model\n",
        "    logreg = LogisticRegression()\n",
        "    #train\n",
        "    logreg.fit(self.X_train,self.y_train)\n",
        "    #test \n",
        "    y_pred=logreg.predict(self.X_test)\n",
        "    #evaluate\n",
        "    print(confusion_matrix(self.y_test, y_pred))\n",
        "    print(classification_report(self.y_test, y_pred))\n",
        "    #Roc Curve\n",
        "    y_pred_prob = logreg.predict_proba(self.X_test)[::,1]\n",
        "    fpr, tpr, _ = metrics.roc_curve(self.y_test,  y_pred_prob)\n",
        "    auccurcy = metrics.roc_auc_score(self.y_test, y_pred_prob)\n",
        "    plt.plot(fpr,tpr,label=\"DataSet, auccurcy=\"+str(auccurcy))\n",
        "    plt.legend(loc=4)\n",
        "    plt.show()\n",
        "    \n",
        "\n",
        "  def k_Nearest_Neighbors(self):\n",
        "    # train \n",
        "    classifier = KNeighborsClassifier(n_neighbors= 5 )\n",
        "    classifier.fit(self.X_train, self.y_train)\n",
        "    #test \n",
        "    y_pred = classifier.predict(self.X_test)\n",
        "    #Evaluate\n",
        "    print(confusion_matrix(self.y_test, y_pred))\n",
        "    print(classification_report(self.y_test, y_pred))\n",
        "    #ROC Curve\n",
        "    y_pred_prob = classifier.predict_proba(self.X_test)[::,1]\n",
        "    fpr, tpr, _ = metrics.roc_curve(self.y_test,  y_pred_prob)\n",
        "    auccurcy = metrics.roc_auc_score(self.y_test, y_pred_prob)\n",
        "    plt.plot(fpr,tpr,label=\"DataSet, auccurcy=\"+str(auccurcy))\n",
        "    plt.legend(loc=4)\n",
        "    plt.show()\n",
        "\n",
        "\n",
        "\n",
        "  def Decision_Trees(self):\n",
        "    #model \n",
        "    clf = DecisionTreeClassifier(max_features=2, min_samples_split=9, random_state=0)\n",
        "    #Train\n",
        "    clf = clf.fit(self.X_train,self.y_train)\n",
        "    #test \n",
        "    y_pred = clf.predict(self.X_test)\n",
        "    #Evaluate\n",
        "    print(confusion_matrix(self.y_test, y_pred))\n",
        "    print(classification_report(self.y_test, y_pred))\n",
        "    #ROC Curve\n",
        "    y_pred_prob = clf.predict_proba(self.X_test)[::,1]\n",
        "    fpr, tpr, _ = metrics.roc_curve(self.y_test,  y_pred_prob)\n",
        "    auccurcy = metrics.roc_auc_score(self.y_test, y_pred_prob)\n",
        "    plt.plot(fpr,tpr,label=\"DataSet, auccurcy=\"+str(auccurcy))\n",
        "    plt.legend(loc=4)\n",
        "    plt.show()\n",
        "      \n",
        "\n",
        "  def SVM(self):\n",
        "      #model\n",
        "      clf = svm.SVC(kernel='linear' ,probability =True) # Linear Kernel\n",
        "      #Train \n",
        "      clf.fit(self.X_train, self.y_train)\n",
        "      #Test\n",
        "      y_pred = clf.predict(self.X_test)\n",
        "      #Evaluate\n",
        "      print(confusion_matrix(self.y_test, y_pred))\n",
        "      print(classification_report(self.y_test, y_pred))\n",
        "      #ROC Curve\n",
        "      y_pred_prob = clf.predict_proba(self.X_test)[::,1]\n",
        "      fpr, tpr, _ = metrics.roc_curve(self.y_test,  y_pred_prob)\n",
        "      auccurcy = metrics.roc_auc_score(self.y_test, y_pred_prob)\n",
        "      plt.plot(fpr,tpr,label=\"DataSet, auccurcy=\"+str(auccurcy))\n",
        "      plt.legend(loc=4)\n",
        "      plt.show()\n",
        "\n",
        "  def Naive_Bayes(self):\n",
        "      #model \n",
        "      model = GaussianNB()\n",
        "      # Train\n",
        "      model.fit(self.X_train, self.y_train)\n",
        "\n",
        "      #PTest\n",
        "      y_pred = model.predict(self.X_test)\n",
        "      #Evaluate\n",
        "      print(confusion_matrix(self.y_test, y_pred))\n",
        "      print(classification_report(self.y_test, y_pred))\n",
        "      #ROC Curve\n",
        "      y_pred_prob = model.predict_proba(self.X_test)[::,1]\n",
        "      fpr, tpr, _ = metrics.roc_curve(self.y_test,  y_pred_prob)\n",
        "      auccurcy = metrics.roc_auc_score(self.y_test, y_pred_prob)\n",
        "      plt.plot(fpr,tpr,label=\"--, auccurcy=\"+str(auccurcy))\n",
        "      plt.legend(loc=4)\n",
        "      plt.show()\n",
        "  \n",
        "\n",
        "    \n",
        "  \n"
      ],
      "execution_count": null,
      "outputs": []
    },
    {
      "cell_type": "markdown",
      "metadata": {
        "id": "KBcsA80xiwe6",
        "colab_type": "text"
      },
      "source": [
        "# ***Main***"
      ]
    },
    {
      "cell_type": "code",
      "metadata": {
        "id": "o5NfS9KziFaK",
        "colab_type": "code",
        "colab": {
          "base_uri": "https://localhost:8080/",
          "height": 1000
        },
        "outputId": "1412164b-d67d-4c18-da90-bd834e0ea6ef"
      },
      "source": [
        "def main():\n",
        "  print(\"\\t\\t\\t\\t\\t\\t Loading Data : \\n \")\n",
        "  Class_Load =Load(DataPath_Train, DataPath_Validation)\n",
        "  Train , Valid = Class_Load.Load_Data()\n",
        "  print(\"\\t\\t\\t\\t\\t\\t Analysis Data : \\n \")\n",
        "  Class_Analysis= Analysis_Data(Train , Valid)\n",
        "  Class_Analysis.Runall_Analysis()\n",
        "  print(\"\\t\\t\\t\\t\\t\\t Missing Data : \\n \")\n",
        "  Class_Missing =Missing_Data(Train , Valid)\n",
        "  Train , Valid  = Class_Missing.Runall_MissingData()\n",
        "  print(\"\\t\\t\\t\\t\\t\\t Missing Data : \\n \")\n",
        "\n",
        "  Preprocessing_Class = Preprocessing_Data(Train,Valid)\n",
        "  X_train ,y_train , X_test,y_test =Preprocessing_Class.Runall_Preprocessing_Data()\n",
        "\n",
        "  ##########################################################\n",
        "  print(\"\\t\\t\\t\\t\\t\\t Result of Models Usig Normalization Data : \\n \")\n",
        "  Class_Normalize= Normalize(X_train ,y_train , X_test,y_test)\n",
        "  Nor_X_train =Class_Normalize.Normalization(X_train)\n",
        "  Nor_X_test =Class_Normalize.Normalization(X_test)\n",
        "  print(\"\\t\\t\\t\\t\\t\\t Result of Models Usig Logistic_Regression Model : \\n \")\n",
        "  Binary_Classification_Class=Binary_Classification( Nor_X_train ,y_train , Nor_X_test,y_test)\n",
        "  Binary_Classification_Class.Logistic_Regression()\n",
        "  print(\"\\t\\t\\t\\t\\t\\t Result of Models Usig k_Nearest_Neighbors  Model : \\n \")\n",
        "\n",
        "  Binary_Classification_Class.k_Nearest_Neighbors()\n",
        "  print(\"\\t\\t\\t\\t\\t\\t Result of Models Usig Decision_Trees Model : \\n \")\n",
        "  Binary_Classification_Class.Decision_Trees()\n",
        "\n",
        "\n",
        "  print(\"\\t\\t\\t\\t\\t\\t Result of Models Usig SVM Model : \\n \")\n",
        "  Binary_Classification_Class.SVM()\n",
        "\n",
        "  print(\"\\t\\t\\t\\t\\t\\t Result of Models Usig Naive_Bayes Model : \\n \")\n",
        "  Binary_Classification_Class.Naive_Bayes()\n",
        "\n",
        "  ###################################################### \n",
        "  print(\"\\t\\t\\t\\t\\t\\t Result of Models Usig MinMaxScaler  Data : \\n \")\n",
        "  Class_Normalize= Normalize(X_train ,y_train , X_test,y_test)\n",
        "  MinMax_X_train =Class_Normalize.MinMaxScaler(X_train)\n",
        "  MinMax_X_test =Class_Normalize.MinMaxScaler(X_test)\n",
        "  print(\"\\t\\t\\t\\t\\t\\t Result of Models Usig Logistic_Regression Model : \\n \")\n",
        "  Binary_Classification_Class=Binary_Classification( MinMax_X_train ,y_train , MinMax_X_test,y_test)\n",
        "  Binary_Classification_Class.Logistic_Regression()\n",
        "  print(\"\\t\\t\\t\\t\\t\\t Result of Models Usig k_Nearest_Neighbors  Model : \\n \")\n",
        "\n",
        "  Binary_Classification_Class.k_Nearest_Neighbors()\n",
        "  print(\"\\t\\t\\t\\t\\t\\t Result of Models Usig Decision_Trees Model : \\n \")\n",
        "  Binary_Classification_Class.Decision_Trees()\n",
        "\n",
        "\n",
        "  print(\"\\t\\t\\t\\t\\t\\t Result of Models Usig SVM Model : \\n \")\n",
        "  Binary_Classification_Class.SVM()\n",
        "\n",
        "  print(\"\\t\\t\\t\\t\\t\\t Result of Models Usig Naive_Bayes Model : \\n \")\n",
        "  Binary_Classification_Class.SVM()\n",
        "\n",
        "\n",
        "\n",
        "\n",
        "\n",
        "\n",
        "\n",
        "\n",
        "\n",
        "\n",
        "\n",
        "if __name__ == \"__main__\":\n",
        "    main()"
      ],
      "execution_count": null,
      "outputs": [
        {
          "output_type": "stream",
          "text": [
            "\t\t\t\t\t\t Loading Data : \n",
            " \n",
            "\t\t\t\t\t\t Analysis Data : \n",
            " \n",
            "\t\t\t\t\t\t Train Head\t\t\t\t\t \n",
            "    variable1  variable2  variable3  ... variable18 variable19 classLabel\n",
            "0         a      17.92   0.000054  ...          t          0          0\n",
            "1         b      16.92   0.000034  ...        NaN          0          0\n",
            "2         b      31.25   0.000112  ...          t          0          0\n",
            "3         a      48.17   0.000133  ...        NaN          0          0\n",
            "4         b      32.33   0.000350  ...          f          0          0\n",
            "\n",
            "[5 rows x 19 columns]\n",
            "\t\t\t\t\t\t Train Tail\t\t\t\t\t  \n",
            "       variable1  variable2  variable3  ... variable18 variable19 classLabel\n",
            "3695         a      18.75   0.000750  ...          t          1          1\n",
            "3696         a      23.50   0.000900  ...          t          1          1\n",
            "3697         b      34.17   0.000917  ...        NaN          1          1\n",
            "3698         b      27.83   0.000154  ...        NaN          1          1\n",
            "3699         a      36.75   0.000513  ...          f          1          1\n",
            "\n",
            "[5 rows x 19 columns]\n",
            "\t\t\t\t\t\t Types \t\t\t\t\t  \n",
            "  variable1      object\n",
            "variable2     float64\n",
            "variable3     float64\n",
            "variable4      object\n",
            "variable5      object\n",
            "variable6      object\n",
            "variable7      object\n",
            "variable8     float64\n",
            "variable9      object\n",
            "variable10     object\n",
            "variable11      int64\n",
            "variable12     object\n",
            "variable13     object\n",
            "variable14    float64\n",
            "variable15      int64\n",
            "variable17    float64\n",
            "variable18     object\n",
            "variable19      int64\n",
            "classLabel      int64\n",
            "dtype: object\n",
            "\t\t\t\t\t\t Valid Head\t\t\t\t\t \n",
            "    variable1  variable2  variable3  ... variable18 variable19 classLabel\n",
            "0         b      32.33   0.000750  ...        NaN          1          0\n",
            "1         b      23.58   0.000179  ...        NaN          0          0\n",
            "2         b      36.42   0.000075  ...        NaN          1          0\n",
            "3         b      18.42   0.001041  ...        NaN          0          0\n",
            "4         b      24.50   0.001334  ...          f          1          0\n",
            "\n",
            "[5 rows x 19 columns]\n",
            "\t\t\t\t\t\t Valid Tail\t\t\t\t\t  \n",
            "      variable1  variable2  variable3  ... variable18 variable19 classLabel\n",
            "195         b      23.08   0.001150  ...          t          0          1\n",
            "196         a      57.08   0.001950  ...        NaN          1          1\n",
            "197         b      30.83   0.000000  ...        NaN          0          1\n",
            "198         b      19.67   0.000037  ...          t          1          1\n",
            "199         b      30.17   0.000650  ...          t          0          1\n",
            "\n",
            "[5 rows x 19 columns]\n",
            "\t\t\t\t\t\t Train Nan Checker \t\t\t\t\t \n",
            "  variable1       39\n",
            "variable2       39\n",
            "variable3        0\n",
            "variable4       64\n",
            "variable5       64\n",
            "variable6       66\n",
            "variable7       66\n",
            "variable8        0\n",
            "variable9        0\n",
            "variable10       0\n",
            "variable11       0\n",
            "variable12       0\n",
            "variable13       0\n",
            "variable14     100\n",
            "variable15       0\n",
            "variable17     100\n",
            "variable18    2145\n",
            "variable19       0\n",
            "classLabel       0\n",
            "dtype: int64\n",
            "\t\t\t\t\t\t Valid Nan Checker \t\t\t\t\t \n",
            "  variable1       3\n",
            "variable2       3\n",
            "variable3       0\n",
            "variable4       2\n",
            "variable5       2\n",
            "variable6       3\n",
            "variable7       3\n",
            "variable8       0\n",
            "variable9       0\n",
            "variable10      0\n",
            "variable11      0\n",
            "variable12      0\n",
            "variable13      0\n",
            "variable14      3\n",
            "variable15      0\n",
            "variable17      3\n",
            "variable18    111\n",
            "variable19      0\n",
            "classLabel      0\n",
            "dtype: int64\n",
            "\t\t\t\t\t\t Missing Data : \n",
            " \n",
            "\t\t\t\t\t\t Missing Data : \n",
            " \n",
            "\t\t\t\t\t\t Result of Models Usig Normalization Data : \n",
            " \n",
            "\t\t\t\t\t\t Result of Models Usig Logistic_Regression Model : \n",
            " \n",
            "[[  0 117]\n",
            " [  0  83]]\n",
            "              precision    recall  f1-score   support\n",
            "\n",
            "           0       0.00      0.00      0.00       117\n",
            "           1       0.41      1.00      0.59        83\n",
            "\n",
            "    accuracy                           0.41       200\n",
            "   macro avg       0.21      0.50      0.29       200\n",
            "weighted avg       0.17      0.41      0.24       200\n",
            "\n"
          ],
          "name": "stdout"
        },
        {
          "output_type": "stream",
          "text": [
            "/usr/local/lib/python3.6/dist-packages/sklearn/metrics/_classification.py:1272: UndefinedMetricWarning: Precision and F-score are ill-defined and being set to 0.0 in labels with no predicted samples. Use `zero_division` parameter to control this behavior.\n",
            "  _warn_prf(average, modifier, msg_start, len(result))\n"
          ],
          "name": "stderr"
        },
        {
          "output_type": "display_data",
          "data": {
            "image/png": "[encoded data removed]",
            "text/plain": [
              "<Figure size 432x288 with 1 Axes>"
            ]
          },
          "metadata": {
            "tags": []
          }
        },
        {
          "output_type": "stream",
          "text": [
            "\t\t\t\t\t\t Result of Models Usig k_Nearest_Neighbors  Model : \n",
            " \n",
            "[[  1 116]\n",
            " [  0  83]]\n",
            "              precision    recall  f1-score   support\n",
            "\n",
            "           0       1.00      0.01      0.02       117\n",
            "           1       0.42      1.00      0.59        83\n",
            "\n",
            "    accuracy                           0.42       200\n",
            "   macro avg       0.71      0.50      0.30       200\n",
            "weighted avg       0.76      0.42      0.25       200\n",
            "\n"
          ],
          "name": "stdout"
        },
        {
          "output_type": "display_data",
          "data": {
            "image/png": "[encoded data removed]",
            "text/plain": [
              "<Figure size 432x288 with 1 Axes>"
            ]
          },
          "metadata": {
            "tags": []
          }
        },
        {
          "output_type": "stream",
          "text": [
            "\t\t\t\t\t\t Result of Models Usig Decision_Trees Model : \n",
            " \n",
            "[[  4 113]\n",
            " [  7  76]]\n",
            "              precision    recall  f1-score   support\n",
            "\n",
            "           0       0.36      0.03      0.06       117\n",
            "           1       0.40      0.92      0.56        83\n",
            "\n",
            "    accuracy                           0.40       200\n",
            "   macro avg       0.38      0.47      0.31       200\n",
            "weighted avg       0.38      0.40      0.27       200\n",
            "\n"
          ],
          "name": "stdout"
        },
        {
          "output_type": "display_data",
          "data": {
            "image/png": "[encoded data removed]",
            "text/plain": [
              "<Figure size 432x288 with 1 Axes>"
            ]
          },
          "metadata": {
            "tags": []
          }
        },
        {
          "output_type": "stream",
          "text": [
            "\t\t\t\t\t\t Result of Models Usig SVM Model : \n",
            " \n",
            "[[  0 117]\n",
            " [  0  83]]\n",
            "              precision    recall  f1-score   support\n",
            "\n",
            "           0       0.00      0.00      0.00       117\n",
            "           1       0.41      1.00      0.59        83\n",
            "\n",
            "    accuracy                           0.41       200\n",
            "   macro avg       0.21      0.50      0.29       200\n",
            "weighted avg       0.17      0.41      0.24       200\n",
            "\n"
          ],
          "name": "stdout"
        },
        {
          "output_type": "stream",
          "text": [
            "/usr/local/lib/python3.6/dist-packages/sklearn/metrics/_classification.py:1272: UndefinedMetricWarning: Precision and F-score are ill-defined and being set to 0.0 in labels with no predicted samples. Use `zero_division` parameter to control this behavior.\n",
            "  _warn_prf(average, modifier, msg_start, len(result))\n"
          ],
          "name": "stderr"
        },
        {
          "output_type": "display_data",
          "data": {
            "image/png": "[encoded data removed]",
            "text/plain": [
              "<Figure size 432x288 with 1 Axes>"
            ]
          },
          "metadata": {
            "tags": []
          }
        },
        {
          "output_type": "stream",
          "text": [
            "/usr/local/lib/python3.6/dist-packages/sklearn/metrics/_classification.py:1272: UndefinedMetricWarning: Precision and F-score are ill-defined and being set to 0.0 in labels with no predicted samples. Use `zero_division` parameter to control this behavior.\n",
            "  _warn_prf(average, modifier, msg_start, len(result))\n"
          ],
          "name": "stderr"
        },
        {
          "output_type": "stream",
          "text": [
            "\t\t\t\t\t\t Result of Models Usig Naive_Bayes Model : \n",
            " \n",
            "[[  0 117]\n",
            " [  0  83]]\n",
            "              precision    recall  f1-score   support\n",
            "\n",
            "           0       0.00      0.00      0.00       117\n",
            "           1       0.41      1.00      0.59        83\n",
            "\n",
            "    accuracy                           0.41       200\n",
            "   macro avg       0.21      0.50      0.29       200\n",
            "weighted avg       0.17      0.41      0.24       200\n",
            "\n"
          ],
          "name": "stdout"
        },
        {
          "output_type": "display_data",
          "data": {
            "image/png": "[encoded data removed]",
            "text/plain": [
              "<Figure size 432x288 with 1 Axes>"
            ]
          },
          "metadata": {
            "tags": []
          }
        },
        {
          "output_type": "stream",
          "text": [
            "\t\t\t\t\t\t Result of Models Usig MinMaxScaler  Data : \n",
            " \n",
            "\t\t\t\t\t\t Result of Models Usig Logistic_Regression Model : \n",
            " \n",
            "[[58 59]\n",
            " [42 41]]\n",
            "              precision    recall  f1-score   support\n",
            "\n",
            "           0       0.58      0.50      0.53       117\n",
            "           1       0.41      0.49      0.45        83\n",
            "\n",
            "    accuracy                           0.49       200\n",
            "   macro avg       0.49      0.49      0.49       200\n",
            "weighted avg       0.51      0.49      0.50       200\n",
            "\n"
          ],
          "name": "stdout"
        },
        {
          "output_type": "display_data",
          "data": {
            "image/png": "[encoded data removed]",
            "text/plain": [
              "<Figure size 432x288 with 1 Axes>"
            ]
          },
          "metadata": {
            "tags": []
          }
        },
        {
          "output_type": "stream",
          "text": [
            "\t\t\t\t\t\t Result of Models Usig k_Nearest_Neighbors  Model : \n",
            " \n",
            "[[55 62]\n",
            " [29 54]]\n",
            "              precision    recall  f1-score   support\n",
            "\n",
            "           0       0.65      0.47      0.55       117\n",
            "           1       0.47      0.65      0.54        83\n",
            "\n",
            "    accuracy                           0.55       200\n",
            "   macro avg       0.56      0.56      0.54       200\n",
            "weighted avg       0.58      0.55      0.55       200\n",
            "\n"
          ],
          "name": "stdout"
        },
        {
          "output_type": "display_data",
          "data": {
            "image/png": "[encoded data removed]",
            "text/plain": [
              "<Figure size 432x288 with 1 Axes>"
            ]
          },
          "metadata": {
            "tags": []
          }
        },
        {
          "output_type": "stream",
          "text": [
            "\t\t\t\t\t\t Result of Models Usig Decision_Trees Model : \n",
            " \n",
            "[[52 65]\n",
            " [37 46]]\n",
            "              precision    recall  f1-score   support\n",
            "\n",
            "           0       0.58      0.44      0.50       117\n",
            "           1       0.41      0.55      0.47        83\n",
            "\n",
            "    accuracy                           0.49       200\n",
            "   macro avg       0.50      0.50      0.49       200\n",
            "weighted avg       0.51      0.49      0.49       200\n",
            "\n"
          ],
          "name": "stdout"
        },
        {
          "output_type": "display_data",
          "data": {
            "image/png": "[encoded data removed]",
            "text/plain": [
              "<Figure size 432x288 with 1 Axes>"
            ]
          },
          "metadata": {
            "tags": []
          }
        },
        {
          "output_type": "stream",
          "text": [
            "\t\t\t\t\t\t Result of Models Usig SVM Model : \n",
            " \n",
            "[[58 59]\n",
            " [42 41]]\n",
            "              precision    recall  f1-score   support\n",
            "\n",
            "           0       0.58      0.50      0.53       117\n",
            "           1       0.41      0.49      0.45        83\n",
            "\n",
            "    accuracy                           0.49       200\n",
            "   macro avg       0.49      0.49      0.49       200\n",
            "weighted avg       0.51      0.49      0.50       200\n",
            "\n"
          ],
          "name": "stdout"
        },
        {
          "output_type": "display_data",
          "data": {
            "image/png": "[encoded data removed]",
            "text/plain": [
              "<Figure size 432x288 with 1 Axes>"
            ]
          },
          "metadata": {
            "tags": []
          }
        },
        {
          "output_type": "stream",
          "text": [
            "\t\t\t\t\t\t Result of Models Usig Naive_Bayes Model : \n",
            " \n",
            "[[58 59]\n",
            " [42 41]]\n",
            "              precision    recall  f1-score   support\n",
            "\n",
            "           0       0.58      0.50      0.53       117\n",
            "           1       0.41      0.49      0.45        83\n",
            "\n",
            "    accuracy                           0.49       200\n",
            "   macro avg       0.49      0.49      0.49       200\n",
            "weighted avg       0.51      0.49      0.50       200\n",
            "\n"
          ],
          "name": "stdout"
        },
        {
          "output_type": "display_data",
          "data": {
            "image/png": "[encoded data removed]",
            "text/plain": [
              "<Figure size 432x288 with 1 Axes>"
            ]
          },
          "metadata": {
            "tags": []
          }
        }
      ]
    },
    {
      "cell_type": "markdown",
      "metadata": {
        "id": "RaznFhLI1haY",
        "colab_type": "text"
      },
      "source": [
        "# Use PCA TO INCREASE Accuracy "
      ]
    },
    {
      "cell_type": "code",
      "metadata": {
        "id": "JT3NycKomSP4",
        "colab_type": "code",
        "colab": {
          "base_uri": "https://localhost:8080/"
        },
        "outputId": "313e1705-557a-4233-958d-14fb953d94ac"
      },
      "source": [
        "def main():\n",
        "  print(\"\\t\\t\\t\\t\\t\\t Loading Data : \\n \")\n",
        "  Class_Load =Load(DataPath_Train, DataPath_Validation)\n",
        "  Train , Valid = Class_Load.Load_Data()\n",
        "  print(\"\\t\\t\\t\\t\\t\\t Analysis Data : \\n \")\n",
        "  Class_Analysis= Analysis_Data(Train , Valid)\n",
        "  Class_Analysis.Runall_Analysis()\n",
        "  print(\"\\t\\t\\t\\t\\t\\t Missing Data : \\n \")\n",
        "  Class_Missing =Missing_Data(Train , Valid)\n",
        "  Train , Valid  = Class_Missing.Runall_MissingData()\n",
        "  print(\"\\t\\t\\t\\t\\t\\t Missing Data : \\n \")\n",
        "\n",
        "  Preprocessing_Class = Preprocessing_Data(Train,Valid)\n",
        "  X_train ,y_train , X_test,y_test =Preprocessing_Class.Runall_Preprocessing_Data()\n",
        "\n",
        "  ##########################################################\n",
        "  print(\"\\t\\t\\t\\t\\t\\t Result of Models Usig PCA_Function Data : \\n \")\n",
        "  Class_Normalize= Normalize(X_train ,y_train , X_test,y_test)\n",
        "  Nor_X_train =Class_Normalize.PCA_Function(X_train)\n",
        "  Nor_X_test =Class_Normalize.PCA_Function(X_test)\n",
        "  print(\"\\t\\t\\t\\t\\t\\t Result of Models Usig Logistic_Regression Model : \\n \")\n",
        "  Binary_Classification_Class=Binary_Classification( Nor_X_train ,y_train , Nor_X_test,y_test)\n",
        "  Binary_Classification_Class.Logistic_Regression()\n",
        "  print(\"\\t\\t\\t\\t\\t\\t Result of Models Usig k_Nearest_Neighbors  Model : \\n \")\n",
        "\n",
        "  Binary_Classification_Class.k_Nearest_Neighbors()\n",
        "  print(\"\\t\\t\\t\\t\\t\\t Result of Models Usig Decision_Trees Model : \\n \")\n",
        "  Binary_Classification_Class.Decision_Trees()\n",
        "\n",
        "\n",
        "  print(\"\\t\\t\\t\\t\\t\\t Result of Models Usig SVM Model : \\n \")\n",
        "  Binary_Classification_Class.SVM()\n",
        "\n",
        "  print(\"\\t\\t\\t\\t\\t\\t Result of Models Usig Naive_Bayes Model : \\n \")\n",
        "  Binary_Classification_Class.Naive_Bayes()\n",
        "\n",
        "\n",
        "\n",
        "\n",
        "  \n",
        "\n",
        "if __name__ == \"__main__\":\n",
        "    main()"
      ],
      "execution_count": null,
      "outputs": [
        {
          "output_type": "stream",
          "text": [
            "\t\t\t\t\t\t Loading Data : \n",
            " \n",
            "\t\t\t\t\t\t Analysis Data : \n",
            " \n",
            "\t\t\t\t\t\t Train Head\t\t\t\t\t \n",
            "    variable1  variable2  variable3  ... variable18 variable19 classLabel\n",
            "0         a      17.92   0.000054  ...          t          0          0\n",
            "1         b      16.92   0.000034  ...        NaN          0          0\n",
            "2         b      31.25   0.000112  ...          t          0          0\n",
            "3         a      48.17   0.000133  ...        NaN          0          0\n",
            "4         b      32.33   0.000350  ...          f          0          0\n",
            "\n",
            "[5 rows x 19 columns]\n",
            "\t\t\t\t\t\t Train Tail\t\t\t\t\t  \n",
            "       variable1  variable2  variable3  ... variable18 variable19 classLabel\n",
            "3695         a      18.75   0.000750  ...          t          1          1\n",
            "3696         a      23.50   0.000900  ...          t          1          1\n",
            "3697         b      34.17   0.000917  ...        NaN          1          1\n",
            "3698         b      27.83   0.000154  ...        NaN          1          1\n",
            "3699         a      36.75   0.000513  ...          f          1          1\n",
            "\n",
            "[5 rows x 19 columns]\n",
            "\t\t\t\t\t\t Types \t\t\t\t\t  \n",
            "  variable1      object\n",
            "variable2     float64\n",
            "variable3     float64\n",
            "variable4      object\n",
            "variable5      object\n",
            "variable6      object\n",
            "variable7      object\n",
            "variable8     float64\n",
            "variable9      object\n",
            "variable10     object\n",
            "variable11      int64\n",
            "variable12     object\n",
            "variable13     object\n",
            "variable14    float64\n",
            "variable15      int64\n",
            "variable17    float64\n",
            "variable18     object\n",
            "variable19      int64\n",
            "classLabel      int64\n",
            "dtype: object\n",
            "\t\t\t\t\t\t Valid Head\t\t\t\t\t \n",
            "    variable1  variable2  variable3  ... variable18 variable19 classLabel\n",
            "0         b      32.33   0.000750  ...        NaN          1          0\n",
            "1         b      23.58   0.000179  ...        NaN          0          0\n",
            "2         b      36.42   0.000075  ...        NaN          1          0\n",
            "3         b      18.42   0.001041  ...        NaN          0          0\n",
            "4         b      24.50   0.001334  ...          f          1          0\n",
            "\n",
            "[5 rows x 19 columns]\n",
            "\t\t\t\t\t\t Valid Tail\t\t\t\t\t  \n",
            "      variable1  variable2  variable3  ... variable18 variable19 classLabel\n",
            "195         b      23.08   0.001150  ...          t          0          1\n",
            "196         a      57.08   0.001950  ...        NaN          1          1\n",
            "197         b      30.83   0.000000  ...        NaN          0          1\n",
            "198         b      19.67   0.000037  ...          t          1          1\n",
            "199         b      30.17   0.000650  ...          t          0          1\n",
            "\n",
            "[5 rows x 19 columns]\n",
            "\t\t\t\t\t\t Train Nan Checker \t\t\t\t\t \n",
            "  variable1       39\n",
            "variable2       39\n",
            "variable3        0\n",
            "variable4       64\n",
            "variable5       64\n",
            "variable6       66\n",
            "variable7       66\n",
            "variable8        0\n",
            "variable9        0\n",
            "variable10       0\n",
            "variable11       0\n",
            "variable12       0\n",
            "variable13       0\n",
            "variable14     100\n",
            "variable15       0\n",
            "variable17     100\n",
            "variable18    2145\n",
            "variable19       0\n",
            "classLabel       0\n",
            "dtype: int64\n",
            "\t\t\t\t\t\t Valid Nan Checker \t\t\t\t\t \n",
            "  variable1       3\n",
            "variable2       3\n",
            "variable3       0\n",
            "variable4       2\n",
            "variable5       2\n",
            "variable6       3\n",
            "variable7       3\n",
            "variable8       0\n",
            "variable9       0\n",
            "variable10      0\n",
            "variable11      0\n",
            "variable12      0\n",
            "variable13      0\n",
            "variable14      3\n",
            "variable15      0\n",
            "variable17      3\n",
            "variable18    111\n",
            "variable19      0\n",
            "classLabel      0\n",
            "dtype: int64\n",
            "\t\t\t\t\t\t Missing Data : \n",
            " \n",
            "\t\t\t\t\t\t Missing Data : \n",
            " \n",
            "\t\t\t\t\t\t Result of Models Usig PCA_Function Data : \n",
            " \n",
            "\t\t\t\t\t\t Result of Models Usig Logistic_Regression Model : \n",
            " \n",
            "[[ 11 106]\n",
            " [  3  80]]\n",
            "              precision    recall  f1-score   support\n",
            "\n",
            "           0       0.79      0.09      0.17       117\n",
            "           1       0.43      0.96      0.59        83\n",
            "\n",
            "    accuracy                           0.46       200\n",
            "   macro avg       0.61      0.53      0.38       200\n",
            "weighted avg       0.64      0.46      0.35       200\n",
            "\n"
          ],
          "name": "stdout"
        },
        {
          "output_type": "display_data",
          "data": {
            "image/png": "[encoded data removed]",
            "text/plain": [
              "<Figure size 432x288 with 1 Axes>"
            ]
          },
          "metadata": {
            "tags": []
          }
        },
        {
          "output_type": "stream",
          "text": [
            "\t\t\t\t\t\t Result of Models Usig k_Nearest_Neighbors  Model : \n",
            " \n",
            "[[  9 108]\n",
            " [  0  83]]\n",
            "              precision    recall  f1-score   support\n",
            "\n",
            "           0       1.00      0.08      0.14       117\n",
            "           1       0.43      1.00      0.61        83\n",
            "\n",
            "    accuracy                           0.46       200\n",
            "   macro avg       0.72      0.54      0.37       200\n",
            "weighted avg       0.77      0.46      0.33       200\n",
            "\n"
          ],
          "name": "stdout"
        },
        {
          "output_type": "display_data",
          "data": {
            "image/png": "[encoded data removed]",
            "text/plain": [
              "<Figure size 432x288 with 1 Axes>"
            ]
          },
          "metadata": {
            "tags": []
          }
        },
        {
          "output_type": "stream",
          "text": [
            "\t\t\t\t\t\t Result of Models Usig Decision_Trees Model : \n",
            " \n",
            "[[28 89]\n",
            " [ 8 75]]\n",
            "              precision    recall  f1-score   support\n",
            "\n",
            "           0       0.78      0.24      0.37       117\n",
            "           1       0.46      0.90      0.61        83\n",
            "\n",
            "    accuracy                           0.52       200\n",
            "   macro avg       0.62      0.57      0.49       200\n",
            "weighted avg       0.64      0.52      0.47       200\n",
            "\n"
          ],
          "name": "stdout"
        },
        {
          "output_type": "display_data",
          "data": {
            "image/png": "[encoded data removed]",
            "text/plain": [
              "<Figure size 432x288 with 1 Axes>"
            ]
          },
          "metadata": {
            "tags": []
          }
        },
        {
          "output_type": "stream",
          "text": [
            "\t\t\t\t\t\t Result of Models Usig SVM Model : \n",
            " \n",
            "[[ 12 105]\n",
            " [  4  79]]\n",
            "              precision    recall  f1-score   support\n",
            "\n",
            "           0       0.75      0.10      0.18       117\n",
            "           1       0.43      0.95      0.59        83\n",
            "\n",
            "    accuracy                           0.46       200\n",
            "   macro avg       0.59      0.53      0.39       200\n",
            "weighted avg       0.62      0.46      0.35       200\n",
            "\n"
          ],
          "name": "stdout"
        },
        {
          "output_type": "display_data",
          "data": {
            "image/png": "[encoded data removed]",
            "text/plain": [
              "<Figure size 432x288 with 1 Axes>"
            ]
          },
          "metadata": {
            "tags": []
          }
        },
        {
          "output_type": "stream",
          "text": [
            "\t\t\t\t\t\t Result of Models Usig Naive_Bayes Model : \n",
            " \n",
            "[[  3 114]\n",
            " [  0  83]]\n",
            "              precision    recall  f1-score   support\n",
            "\n",
            "           0       1.00      0.03      0.05       117\n",
            "           1       0.42      1.00      0.59        83\n",
            "\n",
            "    accuracy                           0.43       200\n",
            "   macro avg       0.71      0.51      0.32       200\n",
            "weighted avg       0.76      0.43      0.28       200\n",
            "\n"
          ],
          "name": "stdout"
        },
        {
          "output_type": "display_data",
          "data": {
            "image/png": "[encoded data removed]",
            "text/plain": [
              "<Figure size 432x288 with 1 Axes>"
            ]
          },
          "metadata": {
            "tags": []
          }
        }
      ]
    }
  ]
}